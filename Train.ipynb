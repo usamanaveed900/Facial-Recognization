{
 "cells": [
  {
   "cell_type": "code",
   "execution_count": 1,
   "metadata": {},
   "outputs": [
    {
     "name": "stderr",
     "output_type": "stream",
     "text": [
      "Using TensorFlow backend.\n"
     ]
    }
   ],
   "source": [
    "import warnings\n",
    "warnings.filterwarnings(\"ignore\")\n",
    "import numpy as np # linear algebra\n",
    "import pandas as pd # data processing, CSV file I/O (e.g. pd.read_csv)\n",
    "import os,cv2\n",
    "import numpy as np\n",
    "import matplotlib.pyplot as plt\n",
    "import matplotlib.image as mpimg\n",
    "from pylab import rcParams\n",
    "rcParams['figure.figsize'] = 20, 10\n",
    "\n",
    "from sklearn.utils import shuffle\n",
    "from sklearn.model_selection import train_test_split\n",
    "\n",
    "import keras\n",
    "\n",
    "from keras.utils import np_utils\n",
    "\n",
    "from keras.models import Sequential\n",
    "from keras.layers import Dense , Activation , Dropout ,Flatten\n",
    "from keras.layers.convolutional import Conv2D\n",
    "from keras.layers.convolutional import MaxPooling2D\n",
    "from keras.metrics import categorical_accuracy\n",
    "from keras.models import model_from_json\n",
    "from keras.callbacks import ModelCheckpoint\n",
    "from keras.optimizers import *\n",
    "from keras.layers.normalization import BatchNormalization\n",
    "import os"
   ]
  },
  {
   "cell_type": "code",
   "execution_count": 2,
   "metadata": {},
   "outputs": [
    {
     "name": "stdout",
     "output_type": "stream",
     "text": [
      "Loaded the images of dataset-Hamza\n",
      "\n",
      "30\n",
      "Loaded the images of dataset-Osama\n",
      "\n",
      "40\n",
      "Loaded the images of dataset-Unknown\n",
      "\n",
      "57\n",
      "(127, 48, 48, 3)\n"
     ]
    }
   ],
   "source": [
    "data_path = './Dataset'\n",
    "data_dir_list = os.listdir(data_path)\n",
    "\n",
    "img_rows=256\n",
    "img_cols=256\n",
    "num_channel=1\n",
    "\n",
    "num_epoch=10\n",
    "\n",
    "img_data_list=[]\n",
    "\n",
    "\n",
    "for dataset in data_dir_list:\n",
    "    img_list=os.listdir(data_path+'/'+ dataset)\n",
    "    print ('Loaded the images of dataset-'+'{}\\n'.format(dataset))\n",
    "    print(len(img_list))\n",
    "    for img in img_list:\n",
    "        input_img=cv2.imread(data_path + '/'+ dataset + '/'+ img )\n",
    "        \n",
    "        input_img_resize=cv2.resize(input_img,(48,48))\n",
    "        img_data_list.append(input_img_resize)\n",
    "        \n",
    "img_data = np.array(img_data_list)\n",
    "img_data = img_data.astype('float32')\n",
    "img_data = img_data/255\n",
    "print(img_data.shape)"
   ]
  },
  {
   "cell_type": "code",
   "execution_count": 3,
   "metadata": {},
   "outputs": [],
   "source": [
    "num_classes = 3\n",
    "\n",
    "num_of_samples = img_data.shape[0]\n",
    "labels = np.ones((num_of_samples,),dtype='int64')"
   ]
  },
  {
   "cell_type": "code",
   "execution_count": 4,
   "metadata": {},
   "outputs": [],
   "source": [
    "labels[0:29]=0 #30\n",
    "labels[30:69]=1 #40\n",
    "labels[70:127]=2 #57\n",
    "\n",
    "names = ['Hamza','Osama','Unknown']\n",
    "\n",
    "def getLabel(id):\n",
    "    return ['Hamza','Osama','Unknown'][id]"
   ]
  },
  {
   "cell_type": "code",
   "execution_count": 5,
   "metadata": {},
   "outputs": [],
   "source": [
    "Y = np_utils.to_categorical(labels, num_classes)\n",
    "\n",
    "#Shuffle the dataset\n",
    "x,y = shuffle(img_data,Y, random_state=2)\n",
    "# Split the dataset\n",
    "X_train, X_test, y_train, y_test = train_test_split(x, y, test_size=0.15, random_state=2)\n",
    "x_test=X_test\n",
    "\n",
    "input_shape=(48,48,3)"
   ]
  },
  {
   "cell_type": "code",
   "execution_count": 6,
   "metadata": {},
   "outputs": [
    {
     "name": "stdout",
     "output_type": "stream",
     "text": [
      "WARNING:tensorflow:From c:\\users\\usama\\appdata\\local\\programs\\python\\python37\\lib\\site-packages\\keras\\backend\\tensorflow_backend.py:4070: The name tf.nn.max_pool is deprecated. Please use tf.nn.max_pool2d instead.\n",
      "\n",
      "Model: \"sequential_1\"\n",
      "_________________________________________________________________\n",
      "Layer (type)                 Output Shape              Param #   \n",
      "=================================================================\n",
      "conv2d_1 (Conv2D)            (None, 48, 48, 6)         456       \n",
      "_________________________________________________________________\n",
      "max_pooling2d_1 (MaxPooling2 (None, 24, 24, 6)         0         \n",
      "_________________________________________________________________\n",
      "conv2d_2 (Conv2D)            (None, 24, 24, 16)        2416      \n",
      "_________________________________________________________________\n",
      "activation_1 (Activation)    (None, 24, 24, 16)        0         \n",
      "_________________________________________________________________\n",
      "max_pooling2d_2 (MaxPooling2 (None, 12, 12, 16)        0         \n",
      "_________________________________________________________________\n",
      "conv2d_3 (Conv2D)            (None, 10, 10, 64)        9280      \n",
      "_________________________________________________________________\n",
      "max_pooling2d_3 (MaxPooling2 (None, 5, 5, 64)          0         \n",
      "_________________________________________________________________\n",
      "flatten_1 (Flatten)          (None, 1600)              0         \n",
      "_________________________________________________________________\n",
      "dense_1 (Dense)              (None, 128)               204928    \n",
      "_________________________________________________________________\n",
      "dropout_1 (Dropout)          (None, 128)               0         \n",
      "_________________________________________________________________\n",
      "dense_2 (Dense)              (None, 3)                 387       \n",
      "=================================================================\n",
      "Total params: 217,467\n",
      "Trainable params: 217,467\n",
      "Non-trainable params: 0\n",
      "_________________________________________________________________\n",
      "WARNING:tensorflow:From c:\\users\\usama\\appdata\\local\\programs\\python\\python37\\lib\\site-packages\\keras\\backend\\tensorflow_backend.py:422: The name tf.global_variables is deprecated. Please use tf.compat.v1.global_variables instead.\n",
      "\n",
      "Train on 107 samples, validate on 20 samples\n",
      "Epoch 1/50\n",
      "107/107 [==============================] - 2s 19ms/step - loss: 1.1091 - accuracy: 0.3832 - val_loss: 1.1022 - val_accuracy: 0.3000\n",
      "Epoch 2/50\n",
      "107/107 [==============================] - 1s 6ms/step - loss: 1.0618 - accuracy: 0.4673 - val_loss: 1.1304 - val_accuracy: 0.3000\n",
      "Epoch 3/50\n",
      "107/107 [==============================] - 1s 5ms/step - loss: 1.0353 - accuracy: 0.4673 - val_loss: 1.0616 - val_accuracy: 0.3500\n",
      "Epoch 4/50\n",
      "107/107 [==============================] - 0s 4ms/step - loss: 0.9899 - accuracy: 0.5607 - val_loss: 0.9965 - val_accuracy: 0.4000\n",
      "Epoch 5/50\n",
      "107/107 [==============================] - 0s 5ms/step - loss: 0.8285 - accuracy: 0.6729 - val_loss: 0.8257 - val_accuracy: 0.5000\n",
      "Epoch 6/50\n",
      "107/107 [==============================] - 1s 5ms/step - loss: 0.5251 - accuracy: 0.8131 - val_loss: 0.5054 - val_accuracy: 0.8000\n",
      "Epoch 7/50\n",
      "107/107 [==============================] - 1s 5ms/step - loss: 0.4518 - accuracy: 0.8411 - val_loss: 0.2910 - val_accuracy: 0.9500\n",
      "Epoch 8/50\n",
      "107/107 [==============================] - 1s 5ms/step - loss: 0.3058 - accuracy: 0.8785 - val_loss: 0.2109 - val_accuracy: 0.9500\n",
      "Epoch 9/50\n",
      "107/107 [==============================] - 0s 4ms/step - loss: 0.2009 - accuracy: 0.9533 - val_loss: 0.0984 - val_accuracy: 1.0000\n",
      "Epoch 10/50\n",
      "107/107 [==============================] - 0s 5ms/step - loss: 0.2259 - accuracy: 0.9159 - val_loss: 0.0930 - val_accuracy: 1.0000\n",
      "Epoch 11/50\n",
      "107/107 [==============================] - 0s 5ms/step - loss: 0.1449 - accuracy: 0.9626 - val_loss: 0.0818 - val_accuracy: 1.0000\n",
      "Epoch 12/50\n",
      "107/107 [==============================] - 0s 4ms/step - loss: 0.0853 - accuracy: 0.9907 - val_loss: 0.0344 - val_accuracy: 1.0000\n",
      "Epoch 13/50\n",
      "107/107 [==============================] - 0s 4ms/step - loss: 0.0953 - accuracy: 0.9720 - val_loss: 0.0557 - val_accuracy: 1.0000\n",
      "Epoch 14/50\n",
      "107/107 [==============================] - 0s 5ms/step - loss: 0.0459 - accuracy: 0.9907 - val_loss: 0.0276 - val_accuracy: 1.0000\n",
      "Epoch 15/50\n",
      "107/107 [==============================] - 0s 4ms/step - loss: 0.0984 - accuracy: 0.9720 - val_loss: 0.0278 - val_accuracy: 1.0000\n",
      "Epoch 16/50\n",
      "107/107 [==============================] - 1s 5ms/step - loss: 0.0602 - accuracy: 0.9813 - val_loss: 0.0600 - val_accuracy: 1.0000\n",
      "Epoch 17/50\n",
      "107/107 [==============================] - 1s 6ms/step - loss: 0.0416 - accuracy: 0.9907 - val_loss: 0.0369 - val_accuracy: 1.0000\n",
      "Epoch 18/50\n",
      "107/107 [==============================] - 1s 6ms/step - loss: 0.0356 - accuracy: 0.9907 - val_loss: 0.0385 - val_accuracy: 1.0000\n",
      "Epoch 19/50\n",
      "107/107 [==============================] - 1s 7ms/step - loss: 0.0171 - accuracy: 1.0000 - val_loss: 0.0199 - val_accuracy: 1.0000\n",
      "Epoch 20/50\n",
      "107/107 [==============================] - 1s 7ms/step - loss: 0.0152 - accuracy: 1.0000 - val_loss: 0.0097 - val_accuracy: 1.0000\n",
      "Epoch 21/50\n",
      "107/107 [==============================] - 1s 6ms/step - loss: 0.0134 - accuracy: 0.9907 - val_loss: 0.0259 - val_accuracy: 1.0000\n",
      "Epoch 22/50\n",
      "107/107 [==============================] - 1s 6ms/step - loss: 0.0193 - accuracy: 0.9907 - val_loss: 0.0341 - val_accuracy: 1.0000\n",
      "Epoch 23/50\n",
      "107/107 [==============================] - 1s 6ms/step - loss: 0.0196 - accuracy: 1.0000 - val_loss: 0.0124 - val_accuracy: 1.0000\n",
      "Epoch 24/50\n",
      "107/107 [==============================] - 1s 6ms/step - loss: 0.0114 - accuracy: 1.0000 - val_loss: 0.0121 - val_accuracy: 1.0000\n",
      "Epoch 25/50\n",
      "107/107 [==============================] - 1s 6ms/step - loss: 0.0095 - accuracy: 1.0000 - val_loss: 0.0114 - val_accuracy: 1.0000\n",
      "Epoch 26/50\n",
      "107/107 [==============================] - 1s 6ms/step - loss: 0.0039 - accuracy: 1.0000 - val_loss: 0.0169 - val_accuracy: 1.0000\n",
      "Epoch 27/50\n",
      "107/107 [==============================] - 1s 6ms/step - loss: 0.0054 - accuracy: 1.0000 - val_loss: 0.0104 - val_accuracy: 1.0000\n",
      "Epoch 28/50\n",
      "107/107 [==============================] - 1s 7ms/step - loss: 0.0044 - accuracy: 1.0000 - val_loss: 0.0061 - val_accuracy: 1.0000\n",
      "Epoch 29/50\n",
      "107/107 [==============================] - 1s 6ms/step - loss: 0.0049 - accuracy: 1.0000 - val_loss: 0.0055 - val_accuracy: 1.0000\n",
      "Epoch 30/50\n",
      "107/107 [==============================] - 1s 6ms/step - loss: 0.0038 - accuracy: 1.0000 - val_loss: 0.0116 - val_accuracy: 1.0000\n",
      "Epoch 31/50\n",
      "107/107 [==============================] - 1s 6ms/step - loss: 0.0040 - accuracy: 1.0000 - val_loss: 0.0083 - val_accuracy: 1.0000\n",
      "Epoch 32/50\n",
      "107/107 [==============================] - 1s 7ms/step - loss: 0.0038 - accuracy: 1.0000 - val_loss: 0.0212 - val_accuracy: 1.0000\n",
      "Epoch 33/50\n",
      "107/107 [==============================] - 1s 7ms/step - loss: 0.0024 - accuracy: 1.0000 - val_loss: 0.0137 - val_accuracy: 1.0000\n",
      "Epoch 34/50\n",
      "107/107 [==============================] - 1s 7ms/step - loss: 0.0343 - accuracy: 0.9907 - val_loss: 0.0188 - val_accuracy: 1.0000\n",
      "Epoch 35/50\n",
      "107/107 [==============================] - 1s 6ms/step - loss: 0.0673 - accuracy: 0.9720 - val_loss: 0.0835 - val_accuracy: 0.9500\n",
      "Epoch 36/50\n",
      "107/107 [==============================] - 1s 6ms/step - loss: 0.0178 - accuracy: 1.0000 - val_loss: 0.0283 - val_accuracy: 1.0000\n",
      "Epoch 37/50\n",
      "107/107 [==============================] - 1s 6ms/step - loss: 0.0156 - accuracy: 1.0000 - val_loss: 0.0623 - val_accuracy: 0.9500\n",
      "Epoch 38/50\n",
      "107/107 [==============================] - 1s 6ms/step - loss: 0.0131 - accuracy: 1.0000 - val_loss: 0.0128 - val_accuracy: 1.0000\n",
      "Epoch 39/50\n",
      "107/107 [==============================] - 1s 7ms/step - loss: 0.0048 - accuracy: 1.0000 - val_loss: 0.0048 - val_accuracy: 1.0000\n",
      "Epoch 40/50\n",
      "107/107 [==============================] - 1s 6ms/step - loss: 0.0024 - accuracy: 1.0000 - val_loss: 0.0104 - val_accuracy: 1.0000\n",
      "Epoch 41/50\n",
      "107/107 [==============================] - 1s 6ms/step - loss: 0.0029 - accuracy: 1.0000 - val_loss: 0.0214 - val_accuracy: 1.0000\n",
      "Epoch 42/50\n"
     ]
    },
    {
     "name": "stdout",
     "output_type": "stream",
     "text": [
      "107/107 [==============================] - 1s 6ms/step - loss: 0.0018 - accuracy: 1.0000 - val_loss: 0.0179 - val_accuracy: 1.0000\n",
      "Epoch 43/50\n",
      "107/107 [==============================] - 1s 6ms/step - loss: 0.0026 - accuracy: 1.0000 - val_loss: 0.0173 - val_accuracy: 1.0000\n",
      "Epoch 44/50\n",
      "107/107 [==============================] - 1s 5ms/step - loss: 0.0092 - accuracy: 1.0000 - val_loss: 0.0483 - val_accuracy: 0.9500\n",
      "Epoch 45/50\n",
      "107/107 [==============================] - 1s 5ms/step - loss: 0.0037 - accuracy: 1.0000 - val_loss: 0.0164 - val_accuracy: 1.0000\n",
      "Epoch 46/50\n",
      "107/107 [==============================] - 1s 6ms/step - loss: 0.0045 - accuracy: 1.0000 - val_loss: 0.0186 - val_accuracy: 1.0000\n",
      "Epoch 47/50\n",
      "107/107 [==============================] - 1s 6ms/step - loss: 0.0044 - accuracy: 1.0000 - val_loss: 0.0132 - val_accuracy: 1.0000\n",
      "Epoch 48/50\n",
      "107/107 [==============================] - 1s 5ms/step - loss: 8.6364e-04 - accuracy: 1.0000 - val_loss: 0.0079 - val_accuracy: 1.0000\n",
      "Epoch 49/50\n",
      "107/107 [==============================] - 1s 7ms/step - loss: 3.9365e-04 - accuracy: 1.0000 - val_loss: 0.0068 - val_accuracy: 1.0000\n",
      "Epoch 50/50\n",
      "107/107 [==============================] - 1s 7ms/step - loss: 6.2419e-04 - accuracy: 1.0000 - val_loss: 0.0023 - val_accuracy: 1.0000\n"
     ]
    }
   ],
   "source": [
    "model = Sequential()\n",
    "model.add(Conv2D(6, (5, 5), input_shape=input_shape, padding='same', activation = 'relu'))\n",
    "model.add(MaxPooling2D(pool_size=(2, 2)))\n",
    "\n",
    "model.add(Conv2D(16, (5, 5), padding='same', activation = 'relu'))\n",
    "model.add(Activation('relu'))\n",
    "model.add(MaxPooling2D(pool_size=(2, 2)))\n",
    "\n",
    "model.add(Conv2D(64, (3, 3), activation = 'relu'))\n",
    "model.add(MaxPooling2D(pool_size=(2, 2)))\n",
    "\n",
    "model.add(Flatten())\n",
    "model.add(Dense(128, activation = 'relu'))\n",
    "model.add(Dropout(0.5))\n",
    "model.add(Dense(3, activation = 'softmax'))\n",
    "\n",
    "model.compile(loss='categorical_crossentropy', metrics=['accuracy'],optimizer='adam')\n",
    "\n",
    "model.summary()\n",
    "model.get_config()\n",
    "model.layers[0].get_config()\n",
    "model.layers[0].input_shape\n",
    "model.layers[0].output_shape\n",
    "model.layers[0].get_weights()\n",
    "np.shape(model.layers[0].get_weights()[0])\n",
    "model.layers[0].trainable\n",
    "\n",
    "from keras import callbacks\n",
    "filename='model_train_new.csv'\n",
    "filepath=\"Best-weights-my_model-{epoch:03d}-{loss:.4f}-{acc:.4f}.hdf5\"\n",
    "\n",
    "csv_log=callbacks.CSVLogger(filename, separator=',', append=False)\n",
    "checkpoint = callbacks.ModelCheckpoint(filepath, monitor='val_loss', verbose=1, save_best_only=True, mode='min')\n",
    "callbacks_list = [csv_log,checkpoint]\n",
    "callbacks_list = [csv_log]\n",
    "\n",
    "hist = model.fit(X_train, y_train, batch_size=7, epochs=50, verbose=1, validation_data=(X_test, y_test),callbacks=callbacks_list)\n",
    "\n",
    "model.save(\"Model/model.bin\")"
   ]
  },
  {
   "cell_type": "code",
   "execution_count": 7,
   "metadata": {},
   "outputs": [
    {
     "name": "stdout",
     "output_type": "stream",
     "text": [
      "dict_keys(['val_loss', 'val_accuracy', 'loss', 'accuracy'])\n"
     ]
    }
   ],
   "source": [
    "# list all data in history\n",
    "print(hist.history.keys())"
   ]
  },
  {
   "cell_type": "code",
   "execution_count": 8,
   "metadata": {},
   "outputs": [
    {
     "data": {
      "image/png": "[encoded data removed]",
      "text/plain": [
       "<Figure size 432x288 with 1 Axes>"
      ]
     },
     "metadata": {
      "needs_background": "light"
     },
     "output_type": "display_data"
    }
   ],
   "source": [
    "import matplotlib.pyplot as plt\n",
    "# summarize history for accuracy\n",
    "plt.plot(hist.history['accuracy'])\n",
    "plt.plot(hist.history['val_accuracy'])\n",
    "plt.title('model accuracy')\n",
    "plt.ylabel('accuracy')\n",
    "plt.xlabel('epoch')\n",
    "plt.legend(['train', 'test'], loc='upper left')\n",
    "plt.show()"
   ]
  },
  {
   "cell_type": "code",
   "execution_count": 9,
   "metadata": {},
   "outputs": [
    {
     "data": {
      "image/png": "[encoded data removed]",
      "text/plain": [
       "<Figure size 432x288 with 1 Axes>"
      ]
     },
     "metadata": {
      "needs_background": "light"
     },
     "output_type": "display_data"
    }
   ],
   "source": [
    "# summarize history for loss\n",
    "plt.plot(hist.history['loss'])\n",
    "plt.plot(hist.history['val_loss'])\n",
    "plt.title('model loss')\n",
    "plt.ylabel('loss')\n",
    "plt.xlabel('epoch')\n",
    "plt.legend(['train', 'test'], loc='upper left')\n",
    "plt.show()"
   ]
  },
  {
   "cell_type": "code",
   "execution_count": 10,
   "metadata": {},
   "outputs": [
    {
     "name": "stdout",
     "output_type": "stream",
     "text": [
      "Test Loss: 0.002318647224456072\n",
      "Test accuracy: 1.0\n",
      "(1, 48, 48, 3)\n",
      "[[5.1171944e-04 9.9948645e-01 1.7957327e-06]]\n",
      "[1]\n"
     ]
    }
   ],
   "source": [
    "score = model.evaluate(X_test, y_test, verbose=0)\n",
    "print('Test Loss:', score[0])\n",
    "print('Test accuracy:', score[1])\n",
    "\n",
    "test_image = X_test[0:1]\n",
    "print (test_image.shape)\n",
    "\n",
    "print(model.predict(test_image))\n",
    "print(model.predict_classes(test_image))"
   ]
  },
  {
   "cell_type": "code",
   "execution_count": null,
   "metadata": {},
   "outputs": [],
   "source": []
  }
 ],
 "metadata": {
  "kernelspec": {
   "display_name": "Python 3",
   "language": "python",
   "name": "python3"
  },
  "language_info": {
   "codemirror_mode": {
    "name": "ipython",
    "version": 3
   },
   "file_extension": ".py",
   "mimetype": "text/x-python",
   "name": "python",
   "nbconvert_exporter": "python",
   "pygments_lexer": "ipython3",
   "version": "3.7.4"
  }
 },
 "nbformat": 4,
 "nbformat_minor": 2
}
